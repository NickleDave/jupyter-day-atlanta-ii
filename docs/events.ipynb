{
 "cells": [
  {
   "cell_type": "markdown",
   "metadata": {},
   "source": [
    ">A list of past and future Jupyter events"
   ]
  },
  {
   "cell_type": "markdown",
   "metadata": {},
   "source": [
    "## Jupyter Days\n",
    "\n"
   ]
  },
  {
   "cell_type": "markdown",
   "metadata": {},
   "source": [
    "0. October 25, 2015 [New York](https://blog.jupyter.org/jupyterday-nyc-333efb100d08)\n",
    "0. February 20th, 2016 [Chicago](https://blog.jupyter.org/jupyterday-chicago-2016-126946f33fc6)\n",
    "0. March 17-18, 2016 [Boston](https://blog.jupyter.org/jupyterdays-boston-2016-80816ab9954f)\n",
    "0. August 13, 2016 [Atlanta](https://jupyterday-atlanta-2016.github.io)\n",
    "0. Oct 29 2016 [Hawaii](https://blog.jupyter.org/jupyterday-hawaii-2016-da8569d52e12)\n",
    "0. December 6, 2016 [Paris](https://blog.jupyter.org/jupyterday-paris-4afa5e97cb1a)\n",
    "0. May 19, 2017 [Philadelphia](https://jupyterday.blogs.brynmawr.edu/)\n",
    "\n",
    "---\n",
    "\n",
    "0. March 21, 2018 [Jupyter Pop Up Boston](https://conferences.oreilly.com/jupyter/popup-ma?cmp=tw-data-confpro-home-na_popup_cfp)\n",
    "0. March 31, 2018 [Atlanta II]()"
   ]
  },
  {
   "cell_type": "markdown",
   "metadata": {},
   "source": [
    "## JupyterCon\n",
    "\n",
    "0. [JupyterCon 2017](https://conferences.oreilly.com/jupyter/jup-ny-2017)\n",
    "0. [JupyterCon 2018](https://conferences.oreilly.com/jupyter/jup-ny/)"
   ]
  },
  {
   "cell_type": "code",
   "execution_count": 1,
   "metadata": {},
   "outputs": [
    {
     "name": "stdout",
     "output_type": "stream",
     "text": [
      "[NbConvertApp] Converting notebook events.ipynb to markdown\n",
      "[NbConvertApp] Writing 979 bytes to events.md\n"
     ]
    }
   ],
   "source": [
    "    !jupyter nbconvert --to markdown --TemplateExporter.exclude_input=True --TemplateExporter.exclude_output=True events.ipynb"
   ]
  }
 ],
 "metadata": {
  "kernelspec": {
   "display_name": "p6",
   "language": "python",
   "name": "other-env"
  },
  "language_info": {
   "codemirror_mode": {
    "name": "ipython",
    "version": 3
   },
   "file_extension": ".py",
   "mimetype": "text/x-python",
   "name": "python",
   "nbconvert_exporter": "python",
   "pygments_lexer": "ipython3",
   "version": "3.6.3"
  }
 },
 "nbformat": 4,
 "nbformat_minor": 2
}
