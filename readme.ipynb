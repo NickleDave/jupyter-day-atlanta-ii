{
 "cells": [
  {
   "cell_type": "markdown",
   "metadata": {},
   "source": [
    "![](https://user-images.githubusercontent.com/4236275/35634953-fb4a3eb6-067a-11e8-81f7-8f06fcf0b052.png)"
   ]
  },
  {
   "cell_type": "code",
   "execution_count": 1,
   "metadata": {},
   "outputs": [
    {
     "data": {
      "text/html": [
       "<style>\n",
       "    @import url(\"https://cdn.jsdelivr.net/npm/firacode@1.205.0/distr/fira_code.css\");\n",
       "\n",
       "    pre code, \n",
       "    div.output_area pre, \n",
       "    .CodeMirror * {\n",
       "      font-family: 'Fira Code' !important; \n",
       "      font-variant-ligatures: initial !important;\n",
       "    }\n",
       "\n",
       "    .cm-string {\n",
       "        font-variant-ligatures: none;\n",
       "    }\n",
       "</style>\n"
      ],
      "text/plain": [
       "<IPython.core.display.HTML object>"
      ]
     },
     "metadata": {},
     "output_type": "display_data"
    }
   ],
   "source": [
    "    %load_ext XXX.mumble"
   ]
  },
  {
   "cell_type": "code",
   "execution_count": 2,
   "metadata": {},
   "outputs": [],
   "source": [
    "    \n",
    "    ---\n",
    "    ref:\n",
    "        cfp: https://docs.google.com/forms/d/e/1FAIpQLSeUJfyYnmsDtswuFanajOpAbAl_E4Ib6LsgM1fMk6Y42ZCf2w/viewform\n",
    "        jupyter: https://jupyter.org\n",
    "        coc: conduct/code_of_conduct.md\n",
    "        gtri: https://gtri.gatech.edu/\n",
    "        oreilly: https://www.oreilly.com/\n",
    "        widgets:\n",
    "        hub:\n",
    "        convert:\n",
    "        triangle: https://www.meetup.com/PyData-Triangle/\n",
    "        triangle-pic: https://pbs.twimg.com/profile_images/780503095499452418/7YYwrvXr_400x400.jpg\n",
    "        '2016': https://jupyterday-atlanta-2016.github.io\n",
    "        jug: https://www.meetup.com/Atlanta-Jupyter-User-Group/\n",
    "        past: docs/events.md\n",
    "        pydata: https://www.meetup.com/PyData-Atlanta/\n",
    "        event: https://www.eventbrite.com/e/jupyter-day-atlanta-tickets-42852095772"
   ]
  },
  {
   "cell_type": "code",
   "execution_count": 3,
   "metadata": {},
   "outputs": [
    {
     "data": {
      "text/markdown": [
       "# Jupyter Day Atlanta II \n",
       "\n",
       "March 31, 2018 @ [Georgia Tech Research Institute](https://gtri.gatech.edu/) in Atlanta\n",
       "\n",
       "---"
      ],
      "text/plain": [
       "<IPython.core.display.Markdown object>"
      ]
     },
     "metadata": {},
     "output_type": "display_data"
    }
   ],
   "source": [
    "# Jupyter Day Atlanta II \n",
    "\n",
    "March 31, 2018 @ [Georgia Tech Research Institute]({{ref['gtri']}}) in Atlanta\n",
    "\n",
    "---"
   ]
  },
  {
   "cell_type": "code",
   "execution_count": 4,
   "metadata": {},
   "outputs": [
    {
     "data": {
      "text/markdown": [
       "## Interested in speaking at Jupyter Day Atlanta?\n",
       "\n",
       "\n",
       "> We are accepting talks for 2 tracks until __February 16, 2018__.\n",
       "\n",
       "[<button type=\"button\">Click here to submit your talk</button>](https://docs.google.com/forms/d/e/1FAIpQLSeUJfyYnmsDtswuFanajOpAbAl_E4Ib6LsgM1fMk6Y42ZCf2w/viewform)\n"
      ],
      "text/plain": [
       "<IPython.core.display.Markdown object>"
      ]
     },
     "metadata": {},
     "output_type": "display_data"
    }
   ],
   "source": [
    "## Interested in speaking at Jupyter Day Atlanta?\n",
    "\n",
    "\n",
    "> We are accepting talks for 2 tracks until __February 16, 2018__.\n",
    "\n",
    "[<button type=\"button\">Click here to submit your talk</button>]({{ref['cfp']}})\n",
    "\n",
    "\n"
   ]
  },
  {
   "cell_type": "code",
   "execution_count": 5,
   "metadata": {},
   "outputs": [
    {
     "data": {
      "text/markdown": [
       "## About\n",
       "\n",
       "Jupyter Day Atlanta is a single-day conference for Jupyter users in the Southeast.  The [Atlanta\n",
       "Jupyter User Group](https://www.meetup.com/Atlanta-Jupyter-User-Group/) is excited to host this event to showcase applications\n",
       "of the open source software created by Project Jupyter and community. These interactive technologies\n",
       "are reshaping how people interact with code and data in both industry and academia.  \n",
       "\n",
       "[<button type=\"button\">Get Early Bird Tickets</button>](https://www.eventbrite.com/e/jupyter-day-atlanta-tickets-42852095772)\n",
       "\n",
       "\n",
       "Jupyter Day Atlanta is chance for Jupyter users of all experience levels to share and learn about \n",
       "the state-of-the-art in open source scientific computing. This event is inspired by\n",
       "[past and future events](docs/events.md) hosted by the Jupyter community, and hopes to connect\n",
       "people across the Southeast including Atlanta, Athens, Raleigh, Columbia, Charlotte, and more.\n",
       "\n",
       "Make plans to join us at the [GTRI Conference Center](https://gtri.gatech.edu/) in the heart of Atlanta\n",
       "on March 31. Early Bird Registration for Jupyter Day Atlanta\n",
       "opens __February 14, 2018__.  Until then please consider [submitting a talk](https://docs.google.com/forms/d/e/1FAIpQLSeUJfyYnmsDtswuFanajOpAbAl_E4Ib6LsgM1fMk6Y42ZCf2w/viewform)!"
      ],
      "text/plain": [
       "<IPython.core.display.Markdown object>"
      ]
     },
     "metadata": {},
     "output_type": "display_data"
    }
   ],
   "source": [
    "## About\n",
    "\n",
    "Jupyter Day Atlanta is a single-day conference for Jupyter users in the Southeast.  The [Atlanta\n",
    "Jupyter User Group]({{ref['jug']}}) is excited to host this event to showcase applications\n",
    "of the open source software created by Project Jupyter and community. These interactive technologies\n",
    "are reshaping how people interact with code and data in both industry and academia.  \n",
    "\n",
    "[<button type=\"button\">Get Early Bird Tickets</button>]({{ref['event']}})\n",
    "\n",
    "\n",
    "Jupyter Day Atlanta is chance for Jupyter users of all experience levels to share and learn about \n",
    "the state-of-the-art in open source scientific computing. This event is inspired by\n",
    "[past and future events](docs/events.md) hosted by the Jupyter community, and hopes to connect\n",
    "people across the Southeast including Atlanta, Athens, Raleigh, Columbia, Charlotte, and more.\n",
    "\n",
    "Make plans to join us at the [GTRI Conference Center]({{ref['gtri']}}) in the heart of Atlanta\n",
    "on March 31. Early Bird Registration for Jupyter Day Atlanta\n",
    "opens __February 14, 2018__.  Until then please consider [submitting a talk]({{ref['cfp']}})!"
   ]
  },
  {
   "cell_type": "code",
   "execution_count": 6,
   "metadata": {},
   "outputs": [
    {
     "data": {
      "text/markdown": [
       "## Invited Speakers\n",
       "\n",
       "Jupyter Day Atlanta will host talks from exciting innovators working in Jupyter \n",
       "notebooks.  _Please stay tuned for more!_\n",
       "\n",
       "## Breakout Sessions\n",
       "\n",
       "### Up and Running: The Jupyter Stack for n00bs\n",
       "\n",
       "Are you new to Jupyter?  Join this session to learn some pro tips that will improve your Jupyter experience.\n",
       "\n",
       "### Interacting and Collaborating in Jupyter\n",
       "\n",
       "In this session, the audience will learn about the core Jupyter\n",
       "architecture (e.g. messaging, kernels) and subprojects (e.g. Notebook, JupyterHub, JupyterLab, ipywidgets, nbconvert).  \n",
       "\n",
       "\n",
       "### Jupyter for Science\n",
       "\n",
       "A favorite of Jupyter Day Atlanta 2016 the Jupyter for Science track will host a session demonstrating\n",
       "the broad topics that scientists and engineers explore with Jupyter notebooks."
      ],
      "text/plain": [
       "<IPython.core.display.Markdown object>"
      ]
     },
     "metadata": {},
     "output_type": "display_data"
    }
   ],
   "source": [
    "## Invited Speakers\n",
    "\n",
    "Jupyter Day Atlanta will host talks from exciting innovators working in Jupyter \n",
    "notebooks.  _Please stay tuned for more!_\n",
    "\n",
    "## Breakout Sessions\n",
    "\n",
    "### Up and Running: The Jupyter Stack for n00bs\n",
    "\n",
    "Are you new to Jupyter?  Join this session to learn some pro tips that will improve your Jupyter experience.\n",
    "\n",
    "### Interacting and Collaborating in Jupyter\n",
    "\n",
    "In this session, the audience will learn about the core Jupyter\n",
    "architecture (e.g. messaging, kernels) and subprojects (e.g. Notebook, JupyterHub, JupyterLab, ipywidgets, nbconvert).  \n",
    "\n",
    "\n",
    "### Jupyter for Science\n",
    "\n",
    "A favorite of Jupyter Day Atlanta 2016 the Jupyter for Science track will host a session demonstrating\n",
    "the broad topics that scientists and engineers explore with Jupyter notebooks."
   ]
  },
  {
   "cell_type": "code",
   "execution_count": 7,
   "metadata": {},
   "outputs": [
    {
     "data": {
      "text/markdown": [
       "# Important Dates\n",
       "\n",
       "* Call for Participation Closes: __February 16, 2018__\n",
       "* Speakers notified: __February 19, 2018__"
      ],
      "text/plain": [
       "<IPython.core.display.Markdown object>"
      ]
     },
     "metadata": {},
     "output_type": "display_data"
    }
   ],
   "source": [
    "# Important Dates\n",
    "\n",
    "* Call for Participation Closes: __February 16, 2018__\n",
    "* Speakers notified: __February 19, 2018__"
   ]
  },
  {
   "cell_type": "code",
   "execution_count": 8,
   "metadata": {},
   "outputs": [
    {
     "data": {
      "text/markdown": [
       "## Morning session\n",
       "\n",
       "* 9:00am - 9:15am — Registration with ☕️ & 🍩 from Project Jupyter\n",
       "* 9:15am - 10am — Panel on Readability, Reusability, and Reproducibility\n",
       "* 10am - 12pm — Invited Talks\n",
       "* 12pm - 1pm — Lunch provided by O'Reilly Media\n",
       "\n",
       "## Afternoon session\n",
       "\n",
       "* 1pm - 1:40pm - Post Lunch Talk\n",
       "* 1:40pm - 4pm\n",
       "\n",
       "    * Up and Running: The Jupyter Stack for n00bs\n",
       "        * 1:40pm - 2:25pm A 45 minute crash course on getting the most out of Jupyter in Lab.\n",
       "\n",
       "    * 1:40pm - 4pm Interacting and Collaborating with Jupyter\n",
       "    * 1:40pm - 4pm Jupyter for Business and Science\n",
       "\n",
       "* 4-4:15pm  — More ☕️ provided by Project Jupyter\n",
       "* 4:15pm - 5pm - Featured Talk\n",
       "* 5pm - 5:30pm — Town Hall and Closing Remarks\n"
      ],
      "text/plain": [
       "<IPython.core.display.Markdown object>"
      ]
     },
     "execution_count": 8,
     "metadata": {},
     "output_type": "execute_result"
    }
   ],
   "source": [
    "    \n",
    "    __import__('IPython').display.Markdown('docs/schedule.md')"
   ]
  },
  {
   "cell_type": "code",
   "execution_count": 9,
   "metadata": {},
   "outputs": [
    {
     "data": {
      "text/markdown": [
       "# [Code of Conduct][coc]\n",
       "\n",
       "All participants, including speakers, must follow our [__Atlanta Jupyter Day Code of Conduct__][coc], the core of which is\n",
       "this: __Atlanta Jupyter Day__ should be a safe and productive environment for everyone.\n",
       "\n",
       "[coc]: conduct/code_of_conduct.md"
      ],
      "text/plain": [
       "<IPython.core.display.Markdown object>"
      ]
     },
     "metadata": {},
     "output_type": "display_data"
    }
   ],
   "source": [
    "# [Code of Conduct][coc]\n",
    "\n",
    "All participants, including speakers, must follow our [__Atlanta Jupyter Day Code of Conduct__][coc], the core of which is\n",
    "this: __Atlanta Jupyter Day__ should be a safe and productive environment for everyone.\n",
    "\n",
    "[coc]: {{ref['coc']}}"
   ]
  },
  {
   "cell_type": "code",
   "execution_count": 10,
   "metadata": {},
   "outputs": [
    {
     "data": {
      "text/markdown": [
       "# Sponsors\n",
       "\n",
       "[![](http://www.southeastlinuxfest.org/wp-content/uploads/2014/06/ORM_logo_box1_cmyk.jpg)](https://www.oreilly.com/)\n",
       "[![](https://raw.githubusercontent.com/jupyter/design/master/logos/Rectangle%20Logo/rectanglelogo-greytext-orangebody-greymoons/rectanglelogo-greytext-orangebody-greymoons.png)](https://jupyter.org)\n",
       "[![](https://upload.wikimedia.org/wikipedia/en/1/1e/GTRI_Logo_2011.png)](https://gtri.gatech.edu/)"
      ],
      "text/plain": [
       "<IPython.core.display.Markdown object>"
      ]
     },
     "metadata": {},
     "output_type": "display_data"
    }
   ],
   "source": [
    "# Sponsors\n",
    "\n",
    "[![](http://www.southeastlinuxfest.org/wp-content/uploads/2014/06/ORM_logo_box1_cmyk.jpg)]({{ref['oreilly']}})\n",
    "[![](https://raw.githubusercontent.com/jupyter/design/master/logos/Rectangle%20Logo/rectanglelogo-greytext-orangebody-greymoons/rectanglelogo-greytext-orangebody-greymoons.png)]({{ref['jupyter']}})\n",
    "[![](https://upload.wikimedia.org/wikipedia/en/1/1e/GTRI_Logo_2011.png)]({{ref['gtri']}})"
   ]
  },
  {
   "cell_type": "code",
   "execution_count": 11,
   "metadata": {},
   "outputs": [
    {
     "data": {
      "text/markdown": [
       "# Meetup Partners\n",
       "\n",
       "The Atlanta Jupyter Group is an extension of [PyData Atlanta](https://www.meetup.com/PyData-Atlanta/) and the greater technology community \n",
       "in Atlanta.  We are excited to partner with these meetups.\n",
       "\n",
       "[![](https://secure.meetupstatic.com/photos/event/2/7/2/8/global_452170024.jpeg)](https://www.meetup.com/PyData-Atlanta/)\n",
       "\n",
       "## [PyData <img style=\"display:inline\" src=\"https://pbs.twimg.com/profile_images/780503095499452418/7YYwrvXr_400x400.jpg\"/> Triangle](https://www.meetup.com/PyData-Triangle/ \"PyData Triangle\")"
      ],
      "text/plain": [
       "<IPython.core.display.Markdown object>"
      ]
     },
     "metadata": {},
     "output_type": "display_data"
    }
   ],
   "source": [
    "# Meetup Partners\n",
    "\n",
    "The Atlanta Jupyter Group is an extension of [PyData Atlanta]({{ref['pydata']}}) and the greater technology community \n",
    "in Atlanta.  We are excited to partner with these meetups.\n",
    "\n",
    "[![](https://secure.meetupstatic.com/photos/event/2/7/2/8/global_452170024.jpeg)]({{ref['pydata']}})\n",
    "\n",
    "## [PyData <img style=\"display:inline\" src=\"{{ref['triangle-pic']}}\"/> Triangle]({{ref['triangle']}} \"PyData Triangle\")"
   ]
  },
  {
   "cell_type": "code",
   "execution_count": null,
   "metadata": {},
   "outputs": [
    {
     "data": {
      "text/markdown": [
       "<style>\n",
       "a:link {\n",
       "    color: #F37626;\n",
       "    font-weight: normal !important;\n",
       "}\n",
       "button {\n",
       "    color: white;\n",
       "    background-color: #F37626;\n",
       "    font-size: 2em;\n",
       "    padding: .5em;\n",
       "    border-radius: .1em;\n",
       "    width: 100%;\n",
       "    border: 0;\n",
       "}\n",
       "a:hover {\n",
       "    font-weight: normal !important;\n",
       "}\n",
       "</style>"
      ],
      "text/plain": [
       "<IPython.core.display.Markdown object>"
      ]
     },
     "metadata": {},
     "output_type": "display_data"
    }
   ],
   "source": [
    "<style>\n",
    "a:link {\n",
    "    color: #F37626;\n",
    "    font-weight: normal !important;\n",
    "}\n",
    "button {\n",
    "    color: white;\n",
    "    background-color: #F37626;\n",
    "    font-size: 2em;\n",
    "    padding: .5em;\n",
    "    border-radius: .1em;\n",
    "    width: 100%;\n",
    "    border: 0;\n",
    "}\n",
    "a:hover {\n",
    "    font-weight: normal !important;\n",
    "}\n",
    "</style>"
   ]
  },
  {
   "cell_type": "code",
   "execution_count": null,
   "metadata": {},
   "outputs": [],
   "source": [
    "    \n",
    "    with __import__(\"IPython\").utils.capture.capture_output():\n",
    "        !jupyter nbconvert --to markdown --TemplateExporter.exclude_input=True readme.ipynb"
   ]
  }
 ],
 "metadata": {
  "kernelspec": {
   "display_name": "p6",
   "language": "python",
   "name": "other-env"
  },
  "language_info": {
   "codemirror_mode": {
    "name": "ipython",
    "version": 3
   },
   "file_extension": ".py",
   "mimetype": "text/x-python",
   "name": "python",
   "nbconvert_exporter": "python",
   "pygments_lexer": "ipython3",
   "version": "3.6.3"
  }
 },
 "nbformat": 4,
 "nbformat_minor": 2
}
