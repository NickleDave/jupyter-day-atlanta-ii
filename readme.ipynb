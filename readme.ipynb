{
 "cells": [
  {
   "cell_type": "markdown",
   "metadata": {},
   "source": [
    "![](https://user-images.githubusercontent.com/4236275/35634953-fb4a3eb6-067a-11e8-81f7-8f06fcf0b052.png)"
   ]
  },
  {
   "cell_type": "code",
   "execution_count": 1,
   "metadata": {},
   "outputs": [],
   "source": [
    "\n",
    "%load_ext XXX.mumble\n",
    "from poser import *\n",
    "get_ipython().ast_node_interactivity='last_expr_or_assign'"
   ]
  },
  {
   "cell_type": "code",
   "execution_count": 2,
   "metadata": {},
   "outputs": [],
   "source": [
    "    \n",
    "    ---\n",
    "    ref:\n",
    "        cfp: https://docs.google.com/forms/d/e/1FAIpQLSeUJfyYnmsDtswuFanajOpAbAl_E4Ib6LsgM1fMk6Y42ZCf2w/viewform\n",
    "        jupyter: https://jupyter.org\n",
    "        coc: conduct/code_of_conduct.md\n",
    "        gtri: https://gtri.gatech.edu/\n",
    "        oreilly: https://www.oreilly.com/\n",
    "        widgets:\n",
    "        hub:\n",
    "        convert:\n",
    "        triangle: https://www.meetup.com/PyData-Triangle/\n",
    "        triangle-pic: https://pbs.twimg.com/profile_images/780503095499452418/7YYwrvXr_400x400.jpg\n",
    "        '2016': https://jupyterday-atlanta-2016.github.io\n",
    "        jug: https://www.meetup.com/Atlanta-Jupyter-User-Group/\n",
    "        past: docs/events.md\n",
    "        pydata: https://www.meetup.com/PyData-Atlanta/\n",
    "        event: https://jupyter-day-atlanta.eventbrite.com\n",
    "        dsatl: https://www.meetup.com/Data-Science-ATL/\n",
    "    deadline: March 16, 2018"
   ]
  },
  {
   "cell_type": "code",
   "execution_count": 3,
   "metadata": {},
   "outputs": [
    {
     "data": {
      "text/markdown": [
       "# Jupyter Day Atlanta II \n",
       "\n",
       "March 31, 2018 @ [Georgia Tech Research Institute](https://gtri.gatech.edu/) in Atlanta\n",
       "\n",
       "---"
      ],
      "text/plain": [
       "<IPython.core.display.Markdown object>"
      ]
     },
     "metadata": {},
     "output_type": "display_data"
    }
   ],
   "source": [
    "# Jupyter Day Atlanta II \n",
    "\n",
    "March 31, 2018 @ [Georgia Tech Research Institute]({{ref['gtri']}}) in Atlanta\n",
    "\n",
    "---"
   ]
  },
  {
   "cell_type": "code",
   "execution_count": 4,
   "metadata": {},
   "outputs": [
    {
     "data": {
      "text/markdown": [
       "## Interested in speaking at Jupyter Day Atlanta?\n",
       "\n",
       "\n",
       "> We are accepting talks for 2 tracks until __March 16, 2018__.\n",
       "\n",
       "[<button class=\"btn btn-lg\" type=\"button\">Submit Your Talk</button>](https://docs.google.com/forms/d/e/1FAIpQLSeUJfyYnmsDtswuFanajOpAbAl_E4Ib6LsgM1fMk6Y42ZCf2w/viewform)\n"
      ],
      "text/plain": [
       "<IPython.core.display.Markdown object>"
      ]
     },
     "metadata": {},
     "output_type": "display_data"
    }
   ],
   "source": [
    "## Interested in speaking at Jupyter Day Atlanta?\n",
    "\n",
    "\n",
    "> We are accepting talks for 2 tracks until __{{deadline}}__.\n",
    "\n",
    "[<button class=\"btn btn-lg\" type=\"button\">Submit Your Talk</button>]({{ref['cfp']}})\n",
    "\n",
    "\n"
   ]
  },
  {
   "cell_type": "code",
   "execution_count": 5,
   "metadata": {},
   "outputs": [],
   "source": [
    "    \n",
    "    %%capture\n",
    "    %%file _includes/submit.html\n",
    "    <a href=\"{{ref['cfp']}}\"><button class=\"btn btn-sm\" type=\"button\">Propose a talk</button></a><br>"
   ]
  },
  {
   "cell_type": "code",
   "execution_count": 6,
   "metadata": {},
   "outputs": [
    {
     "data": {
      "text/markdown": [
       "## About\n",
       "\n",
       "Jupyter Day Atlanta is a single-day conference for Jupyter users in the Southeast.  The [Atlanta\n",
       "Jupyter User Group](https://www.meetup.com/Atlanta-Jupyter-User-Group/) is excited to host this event to showcase applications\n",
       "of the open source software created by Project Jupyter and community. These interactive technologies\n",
       "are reshaping how people interact with code and data in both industry and academia.  \n",
       "\n",
       "Jupyter Day Atlanta is a chance for Jupyter users of all experience levels to share and learn about \n",
       "the state-of-the-art in open source scientific computing. This event is inspired by\n",
       "[past and future events](docs/events.md) hosted by the Jupyter community, and hopes to connect\n",
       "people across the Southeast including Atlanta, Athens, Raleigh, Columbia, Charlotte, and more.\n",
       "\n",
       "[<button class=\"btn btn-lg\" type=\"button\">Get Early Bird Tickets</button>](https://jupyter-day-atlanta.eventbrite.com)\n",
       "\n",
       "Make plans to join us at the [GTRI Conference Center](https://gtri.gatech.edu/) in the heart of Atlanta\n",
       "on March 31. Early Bird Registration for Jupyter Day Atlanta\n",
       "is open.  Until then please consider [submitting a talk](https://docs.google.com/forms/d/e/1FAIpQLSeUJfyYnmsDtswuFanajOpAbAl_E4Ib6LsgM1fMk6Y42ZCf2w/viewform)!"
      ],
      "text/plain": [
       "<IPython.core.display.Markdown object>"
      ]
     },
     "metadata": {},
     "output_type": "display_data"
    }
   ],
   "source": [
    "## About\n",
    "\n",
    "Jupyter Day Atlanta is a single-day conference for Jupyter users in the Southeast.  The [Atlanta\n",
    "Jupyter User Group]({{ref['jug']}}) is excited to host this event to showcase applications\n",
    "of the open source software created by Project Jupyter and community. These interactive technologies\n",
    "are reshaping how people interact with code and data in both industry and academia.  \n",
    "\n",
    "Jupyter Day Atlanta is a chance for Jupyter users of all experience levels to share and learn about \n",
    "the state-of-the-art in open source scientific computing. This event is inspired by\n",
    "[past and future events](docs/events.md) hosted by the Jupyter community, and hopes to connect\n",
    "people across the Southeast including Atlanta, Athens, Raleigh, Columbia, Charlotte, and more.\n",
    "\n",
    "[<button class=\"btn btn-lg\" type=\"button\">Get Early Bird Tickets</button>]({{ref['event']}})\n",
    "\n",
    "Make plans to join us at the [GTRI Conference Center]({{ref['gtri']}}) in the heart of Atlanta\n",
    "on March 31. Early Bird Registration for Jupyter Day Atlanta\n",
    "is open.  Until then please consider [submitting a talk]({{ref['cfp']}})!"
   ]
  },
  {
   "cell_type": "code",
   "execution_count": 7,
   "metadata": {},
   "outputs": [
    {
     "data": {
      "text/markdown": [
       "# Important Dates\n",
       "\n",
       "* [Call for Participation](https://docs.google.com/forms/d/e/1FAIpQLSeUJfyYnmsDtswuFanajOpAbAl_E4Ib6LsgM1fMk6Y42ZCf2w/viewform) Closes: __March 16, 2018__\n",
       "* Speakers notified: __March 19, 2018__"
      ],
      "text/plain": [
       "<IPython.core.display.Markdown object>"
      ]
     },
     "metadata": {},
     "output_type": "display_data"
    }
   ],
   "source": [
    "# Important Dates\n",
    "\n",
    "* [Call for Participation]({{ref['cfp']}}) Closes: __{{deadline}}__\n",
    "* Speakers notified: __March 19, 2018__"
   ]
  },
  {
   "cell_type": "code",
   "execution_count": 8,
   "metadata": {},
   "outputs": [
    {
     "data": {
      "text/markdown": [
       "## Morning session\n",
       "\n",
       "* 9:00am - 9:15am — Registration with ☕️ & 🍩 from Project Jupyter\n",
       "* 9:15am - 10am — Panel on Readability, Reusability, and Reproducibility\n",
       "* 10am - 12pm — Invited Talks\n",
       "* 12pm - 1pm — Lunch provided by O'Reilly Media\n",
       "\n",
       "## Afternoon session\n",
       "\n",
       "* 1pm - 1:40pm - Post Lunch Talk\n",
       "* 1:40pm - 4pm\n",
       "\n",
       "    * Up and Running: The Jupyter Stack for n00bs\n",
       "        * 1:40pm - 2:25pm A 45 minute crash course on getting the most out of JupyterLab.\n",
       "\n",
       "    * 1:40pm - 4pm Interacting and Collaborating with Jupyter\n",
       "    * 1:40pm - 4pm Jupyter for Business and Science\n",
       "\n",
       "* 4-4:15pm  — More ☕️ provided by Project Jupyter\n",
       "* 4:15pm - 5pm - Featured Talk\n",
       "* 5pm - 5:30pm — Town Hall and Closing Remarks\n"
      ],
      "text/plain": [
       "<IPython.core.display.Markdown object>"
      ]
     },
     "execution_count": 8,
     "metadata": {},
     "output_type": "execute_result"
    }
   ],
   "source": [
    "    \n",
    "    __import__('IPython').display.Markdown('docs/schedule.md')"
   ]
  },
  {
   "cell_type": "code",
   "execution_count": 9,
   "metadata": {},
   "outputs": [],
   "source": [
    "    \n",
    "    import string\n",
    "    speakers = a.pandas.read_csv()('_data/Jupyter Day Atlanta II (Responses) - Form Responses 1.csv').drop_duplicates('Email Address', keep='last').iloc[[0,3,2,1]];\n",
    "    speakers ['id'] = speakers['Title'].str.replace(*'- ').apply(a.filter(a[string.punctuation.__contains__].not_())[''.join]).str.replace(*' -').str.lower()"
   ]
  },
  {
   "cell_type": "code",
   "execution_count": 10,
   "metadata": {},
   "outputs": [],
   "source": [
    "    {% set t='https://twitter.com/' %}\n",
    "    \n",
    "    ---\n",
    "    mapping:\n",
    "        https://twitter.com/pacoid: Paco Nathan\n",
    "        \"@stephencwelch\": Stephen Welch\n",
    "        \"https://twitter.com/SpectralFilter\": Shannon Quinn\n",
    "        Carol Willing: Carol Willing\n",
    "            \n",
    "    speaker_links:\n",
    "        Paco Nathan: {{t}}pacoid\n",
    "        Stephen Welch: {{t}}stephencwelch\n",
    "        Shannon Quinn: {{t}}SpectralFilter\n",
    "        Carol Willing: {{t}}WillingCarol\n",
    "            \n",
    "    org_links:\n",
    "        Project Jupyter: {{ref['jupyter']}}\n",
    "        O'Reilly Media: https://www.oreilly.com/learning\n",
    "        Wheego Technologies, Welch labs: http://www.welchlabs.com/\n",
    "        University of Georgia: http://cobweb.cs.uga.edu/~squinn/"
   ]
  },
  {
   "cell_type": "code",
   "execution_count": 11,
   "metadata": {
    "scrolled": false
   },
   "outputs": [
    {
     "data": {
      "text/markdown": [
       "# Invited Talks\n",
       "\n",
       "\n",
       "## STEAM Workshops with Binder and JupyterHub\n",
       "\n",
       "\n",
       "> [Carol Willing](https://twitter.com/WillingCarol) - _Research Software Engineer_ @ **[Project Jupyter](https://jupyter.org)**\n",
       "\n",
       "\n",
       "Middle School and High School students can learn by doing. Jupyter Notebooks and the rich Python ecosystem with libraries on a variety of topics can engage many learners of the sciences and humanities. Interactive content, using Jupyter Widgets and visualization libraries, put the student in charge of manipulating content and extending their learning. Giving students engaging content in familiar subjects encourages them to develop and use computational skills to build upon their interests.\n",
       "\n",
       "One difficulty of teaching workshops is access to computers and the ability to install software on those systems. This talk will demonstrate how a workshop organizer or teacher can deploy JupyterHub easily for a class using the Zero to JupyterHub Guide, Kubernetes, and Cloud Services. Even if students only have access to smartphones, tablets, or shared computers, a workshop can be held using Binder which allows a notebook environment to be served at the click of a button to any modern web browser.\n",
       "\n",
       "## Human-in-the-loop with Jupyter notebooks\n",
       "\n",
       "\n",
       "> [Paco Nathan](https://twitter.com/pacoid) - _Evil Mad Scientist_ @ **[O'Reilly Media](https://www.oreilly.com/learning)**\n",
       "\n",
       "\n",
       "Imagine you have a few million documents, where sometimes the term `react` gets used to describe a JavaScript library, then sometimes it describes what people do during interviews. Even after parsing documents with the latest NLP libraries, \"disambiguation\" of overloaded terms is a hard problem.\n",
       "\n",
       "One way to disambiguate terms in documents uses *active learning* for a *human-in-the-loop* approach.  While both \"active learning\" and \"human-in-the-loop\" have multiple meanings, this usage is about semi-supervised machine learning. It's a great technique to have in your toolkit when you want to prepare data for use at scale, such as preparing data sets for deep learning.\n",
       "\n",
       "This talk will show an overview of active learning, how it's being used in industry.  While tooling can be expensive, we took an open source approach at O'Reilly Media based on Jupyter notebooks, nbformat, pandas, scikit-learn.  If all goes well, we'll include a live demo.\n",
       "\n",
       "## Just how hard is it to drive a car with a camera?\n",
       "\n",
       "\n",
       "> [Stephen Welch](https://twitter.com/stephencwelch) - _Senior Engineer, Machine Learning_ @ **[Wheego Technologies, Welch labs](http://www.welchlabs.com/)**\n",
       "\n",
       "\n",
       "In this talk, we'll use the Jupyter notebook to take a data-based approach to this question. Using real driving data and real algorithms in the notebook, we'll get as close as we can to the unique historical and modern approaches to this deep and compelling problem.\n",
       "\n",
       "## Reproducible Segmentation of Not-Quite-Objects in Jupyter Notebooks\n",
       "\n",
       "\n",
       "> [Shannon Quinn](https://twitter.com/SpectralFilter) - _Assistant Professor_ @ **[University of Georgia](http://cobweb.cs.uga.edu/~squinn/)**\n",
       "\n",
       "\n",
       "A fundamental concept in computer vision is the process of segmenting an object of interest out from within an image or sequence of images. This process is difficult under the best of circumstances; in our case, we are interested not in single objects but rather a collection of deformable objects. Motile cilia are microscopic, hair-like structures that protrude from cells and beat in synchrony to move particulates and irritants away and bring nutrients in. Cilia line the exterior of cells in nearly every part of the body; as such, diseases that affect cilia and their ability to beat properly can have myriad and severe consequences on the patient's health. To that end, studying the motion of cilia is important to better understand the pathologies of these diseases. In this talk, we'll discuss some of the basics of object segmentation, and how many of the basic assumptions are violated in circumstances such as identifying cilia in a video. We'll look at live demonstrations of alternative segmentation approaches that can be used on diffuse motion patterns such as those created by moving cilia, using Jupyter notebooks and ipywidgets to create a beginner-friendly walkthrough of the basics of ciliary motion analysis and segmentation methods.\n"
      ],
      "text/plain": [
       "<IPython.core.display.Markdown object>"
      ]
     },
     "metadata": {},
     "output_type": "display_data"
    }
   ],
   "source": [
    "# Invited Talks\n",
    "\n",
    "{% for i, _ in speakers.iterrows() %}\n",
    "## {{_['Title']}}\n",
    "\n",
    "{% set name=mapping[_['Your name or a site (e.g. twitter, github) handle.']]%}\n",
    "> [{{name}}]({{speaker_links[name]}}) - _{{_['Job Title']}}_ @ **[{{_['Affiliation']}}]({{org_links[_['Affiliation']]}})**\n",
    "\n",
    "\n",
    "{{_['Abstract'].strip()}}\n",
    "{% endfor %}"
   ]
  },
  {
   "cell_type": "code",
   "execution_count": 12,
   "metadata": {},
   "outputs": [
    {
     "data": {
      "text/markdown": [
       "## Breakout Sessions\n",
       "\n",
       "### Up and Running: The Jupyter Stack for n00bs\n",
       "\n",
       "Are you new to Jupyter?  Join this session to learn some pro tips that will improve your Jupyter experience.\n",
       "\n",
       "### Interacting and Collaborating in Jupyter\n",
       "\n",
       "In this session, the audience will learn about the core Jupyter\n",
       "architecture (e.g. messaging, kernels) and subprojects (e.g. Notebook, JupyterHub, JupyterLab, ipywidgets, nbconvert).  \n",
       "\n",
       "\n",
       "### Jupyter for Science\n",
       "\n",
       "A favorite of Jupyter Day Atlanta 2016 the Jupyter for Science track will host a session demonstrating\n",
       "the broad topics that scientists and engineers explore with Jupyter notebooks."
      ],
      "text/plain": [
       "<IPython.core.display.Markdown object>"
      ]
     },
     "metadata": {},
     "output_type": "display_data"
    }
   ],
   "source": [
    "## Breakout Sessions\n",
    "\n",
    "### Up and Running: The Jupyter Stack for n00bs\n",
    "\n",
    "Are you new to Jupyter?  Join this session to learn some pro tips that will improve your Jupyter experience.\n",
    "\n",
    "### Interacting and Collaborating in Jupyter\n",
    "\n",
    "In this session, the audience will learn about the core Jupyter\n",
    "architecture (e.g. messaging, kernels) and subprojects (e.g. Notebook, JupyterHub, JupyterLab, ipywidgets, nbconvert).  \n",
    "\n",
    "\n",
    "### Jupyter for Science\n",
    "\n",
    "A favorite of Jupyter Day Atlanta 2016 the Jupyter for Science track will host a session demonstrating\n",
    "the broad topics that scientists and engineers explore with Jupyter notebooks."
   ]
  },
  {
   "cell_type": "code",
   "execution_count": 13,
   "metadata": {
    "scrolled": false
   },
   "outputs": [],
   "source": [
    "\n",
    "    %%capture\n",
    "    %%file _includes/speakers.md\n",
    "    <hr>\n",
    "    ### Speakers\n",
    "    \n",
    "    {% for i, _ in speakers.iterrows() -%}{% set name=mapping[_['Your name or a site (e.g. twitter, github) handle.']]%}[{{name}}](#{{_.id}})<br>\n",
    "    {% endfor %}"
   ]
  },
  {
   "cell_type": "code",
   "execution_count": 14,
   "metadata": {},
   "outputs": [
    {
     "data": {
      "text/markdown": [
       "# [Code of Conduct][coc]\n",
       "\n",
       "All participants, including speakers, must follow our [__Atlanta Jupyter Day Code of Conduct__][coc], the core of which is\n",
       "this: __Atlanta Jupyter Day__ should be a safe and productive environment for everyone.\n",
       "\n",
       "[coc]: conduct/code_of_conduct.md"
      ],
      "text/plain": [
       "<IPython.core.display.Markdown object>"
      ]
     },
     "metadata": {},
     "output_type": "display_data"
    }
   ],
   "source": [
    "# [Code of Conduct][coc]\n",
    "\n",
    "All participants, including speakers, must follow our [__Atlanta Jupyter Day Code of Conduct__][coc], the core of which is\n",
    "this: __Atlanta Jupyter Day__ should be a safe and productive environment for everyone.\n",
    "\n",
    "[coc]: {{ref['coc']}}"
   ]
  },
  {
   "cell_type": "code",
   "execution_count": 15,
   "metadata": {},
   "outputs": [
    {
     "data": {
      "text/markdown": [
       "# Sponsors\n",
       "\n",
       "[![](http://www.southeastlinuxfest.org/wp-content/uploads/2014/06/ORM_logo_box1_cmyk.jpg)](https://www.oreilly.com/)\n",
       "[![](https://raw.githubusercontent.com/jupyter/design/master/logos/Rectangle%20Logo/rectanglelogo-greytext-orangebody-greymoons/rectanglelogo-greytext-orangebody-greymoons.png)](https://jupyter.org)\n",
       "[![](https://upload.wikimedia.org/wikipedia/en/1/1e/GTRI_Logo_2011.png)](https://gtri.gatech.edu/)"
      ],
      "text/plain": [
       "<IPython.core.display.Markdown object>"
      ]
     },
     "metadata": {},
     "output_type": "display_data"
    }
   ],
   "source": [
    "# Sponsors\n",
    "\n",
    "[![](http://www.southeastlinuxfest.org/wp-content/uploads/2014/06/ORM_logo_box1_cmyk.jpg)]({{ref['oreilly']}})\n",
    "[![](https://raw.githubusercontent.com/jupyter/design/master/logos/Rectangle%20Logo/rectanglelogo-greytext-orangebody-greymoons/rectanglelogo-greytext-orangebody-greymoons.png)]({{ref['jupyter']}})\n",
    "[![](https://upload.wikimedia.org/wikipedia/en/1/1e/GTRI_Logo_2011.png)]({{ref['gtri']}})"
   ]
  },
  {
   "cell_type": "code",
   "execution_count": 16,
   "metadata": {},
   "outputs": [
    {
     "data": {
      "text/markdown": [
       "# Meetup Partners\n",
       "\n",
       "The Atlanta Jupyter Group is an extension of [PyData Atlanta](https://www.meetup.com/PyData-Atlanta/) and the greater technology community \n",
       "in Atlanta.  We are excited to partner with these meetups.\n",
       "\n",
       "[![](https://secure.meetupstatic.com/photos/event/2/7/2/8/global_452170024.jpeg)](https://www.meetup.com/PyData-Atlanta/)\n",
       "[![](https://i.vimeocdn.com/portrait/5895081_600x600.webp)](https://www.meetup.com/Data-Science-ATL/)\n",
       "## [<img style=\"display:inline\" src=\"https://pbs.twimg.com/profile_images/780503095499452418/7YYwrvXr_400x400.jpg\"/> PyData Triangle](https://www.meetup.com/PyData-Triangle/ \"PyData Triangle\")"
      ],
      "text/plain": [
       "<IPython.core.display.Markdown object>"
      ]
     },
     "metadata": {},
     "output_type": "display_data"
    }
   ],
   "source": [
    "# Meetup Partners\n",
    "\n",
    "The Atlanta Jupyter Group is an extension of [PyData Atlanta]({{ref['pydata']}}) and the greater technology community \n",
    "in Atlanta.  We are excited to partner with these meetups.\n",
    "\n",
    "[![](https://secure.meetupstatic.com/photos/event/2/7/2/8/global_452170024.jpeg)]({{ref['pydata']}})\n",
    "[![](https://i.vimeocdn.com/portrait/5895081_600x600.webp)]({{ref['dsatl']}})\n",
    "## [<img style=\"display:inline\" src=\"{{ref['triangle-pic']}}\"/> PyData Triangle]({{ref['triangle']}} \"PyData Triangle\")"
   ]
  },
  {
   "cell_type": "code",
   "execution_count": 17,
   "metadata": {},
   "outputs": [
    {
     "data": {
      "text/markdown": [
       "<style>\n",
       "a:link {\n",
       "    color: #F37626;\n",
       "    font-weight: normal !important;\n",
       "}\n",
       "button {\n",
       "    color: white;\n",
       "    background-color: #F37626;\n",
       "}\n",
       "button.btn-sm {\n",
       "    font-size: 1em;\n",
       "    padding: .25em;\n",
       "    border-radius: .1em;\n",
       "    width: 50%;\n",
       "    border: 0;\n",
       "}\n",
       "\n",
       "button.btn-lg {\n",
       "    font-size: 2em;\n",
       "    padding: .5em;\n",
       "    border-radius: .1em;\n",
       "    width: 100%;\n",
       "    border: 0;\n",
       "}\n",
       "\n",
       "a:hover {\n",
       "    font-weight: normal !important;\n",
       "}\n",
       "</style>"
      ],
      "text/plain": [
       "<IPython.core.display.Markdown object>"
      ]
     },
     "metadata": {},
     "output_type": "display_data"
    }
   ],
   "source": [
    "<style>\n",
    "a:link {\n",
    "    color: #F37626;\n",
    "    font-weight: normal !important;\n",
    "}\n",
    "button {\n",
    "    color: white;\n",
    "    background-color: #F37626;\n",
    "}\n",
    "button.btn-sm {\n",
    "    font-size: 1em;\n",
    "    padding: .25em;\n",
    "    border-radius: .1em;\n",
    "    width: 50%;\n",
    "    border: 0;\n",
    "}\n",
    "\n",
    "button.btn-lg {\n",
    "    font-size: 2em;\n",
    "    padding: .5em;\n",
    "    border-radius: .1em;\n",
    "    width: 100%;\n",
    "    border: 0;\n",
    "}\n",
    "\n",
    "a:hover {\n",
    "    font-weight: normal !important;\n",
    "}\n",
    "</style>"
   ]
  },
  {
   "cell_type": "code",
   "execution_count": 18,
   "metadata": {},
   "outputs": [],
   "source": [
    "    \n",
    "    with __import__(\"IPython\").utils.capture.capture_output():\n",
    "        !jupyter nbconvert --to markdown --TemplateExporter.exclude_input=True readme.ipynb\n",
    "        !echo \"---\\nlayout: default\\n---\\n\" > ../minimal-master/index.md\n",
    "        !jupyter nbconvert --to markdown --TemplateExporter.exclude_input=True --stdout readme.ipynb >> ../minimal-master/index.md\n",
    "        !cp _config.yml ../minimal-master/\n",
    "        !cp _includes/* ../minimal-master/_includes/\n",
    "        !cp _layouts/* ../minimal-master/_layouts/"
   ]
  },
  {
   "cell_type": "code",
   "execution_count": null,
   "metadata": {},
   "outputs": [],
   "source": []
  }
 ],
 "metadata": {
  "kernelspec": {
   "display_name": "p6",
   "language": "python",
   "name": "other-env"
  },
  "language_info": {
   "codemirror_mode": {
    "name": "ipython",
    "version": 3
   },
   "file_extension": ".py",
   "mimetype": "text/x-python",
   "name": "python",
   "nbconvert_exporter": "python",
   "pygments_lexer": "ipython3",
   "version": "3.6.3"
  },
  "toc": {
   "colors": {
    "hover_highlight": "#DAA520",
    "running_highlight": "#FF0000",
    "selected_highlight": "#FFD700"
   },
   "moveMenuLeft": true,
   "nav_menu": {
    "height": "12px",
    "width": "252px"
   },
   "navigate_menu": true,
   "number_sections": true,
   "sideBar": true,
   "threshold": 4,
   "toc_cell": false,
   "toc_section_display": "block",
   "toc_window_display": false,
   "widenNotebook": false
  },
  "varInspector": {
   "cols": {
    "lenName": 16,
    "lenType": 16,
    "lenVar": 40
   },
   "kernels_config": {
    "python": {
     "delete_cmd_postfix": "",
     "delete_cmd_prefix": "del ",
     "library": "var_list.py",
     "varRefreshCmd": "print(var_dic_list())"
    },
    "r": {
     "delete_cmd_postfix": ") ",
     "delete_cmd_prefix": "rm(",
     "library": "var_list.r",
     "varRefreshCmd": "cat(var_dic_list()) "
    }
   },
   "types_to_exclude": [
    "module",
    "function",
    "builtin_function_or_method",
    "instance",
    "_Feature"
   ],
   "window_display": false
  }
 },
 "nbformat": 4,
 "nbformat_minor": 2
}
