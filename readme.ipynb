{
 "cells": [
  {
   "cell_type": "markdown",
   "metadata": {},
   "source": [
    "![](https://user-images.githubusercontent.com/4236275/35634953-fb4a3eb6-067a-11e8-81f7-8f06fcf0b052.png)"
   ]
  },
  {
   "cell_type": "code",
   "execution_count": 1,
   "metadata": {},
   "outputs": [],
   "source": [
    "    %load_ext XXX.mumble"
   ]
  },
  {
   "cell_type": "code",
   "execution_count": 2,
   "metadata": {},
   "outputs": [],
   "source": [
    "    \n",
    "    ---\n",
    "    ref:\n",
    "        cfp: https://docs.google.com/forms/d/e/1FAIpQLSeUJfyYnmsDtswuFanajOpAbAl_E4Ib6LsgM1fMk6Y42ZCf2w/viewform\n",
    "        jupyter:\n",
    "        coc: conduct/code_of_conduct.md\n",
    "        gtri: \n",
    "        widgets:\n",
    "        hub:\n",
    "        convert:\n",
    "        '2016':\n",
    "        jug: https://www.meetup.com/Atlanta-Jupyter-User-Group/\n",
    "        past: docs/events.md"
   ]
  },
  {
   "cell_type": "code",
   "execution_count": 3,
   "metadata": {},
   "outputs": [
    {
     "data": {
      "text/markdown": [
       "# Jupyter Day Atlanta II \n",
       "\n",
       "March 31, 2018 @ [Georgia Tech Research Institute](None) in Atlanta\n",
       "\n",
       "---"
      ],
      "text/plain": [
       "<IPython.core.display.Markdown object>"
      ]
     },
     "metadata": {},
     "output_type": "display_data"
    }
   ],
   "source": [
    "# Jupyter Day Atlanta II \n",
    "\n",
    "March 31, 2018 @ [Georgia Tech Research Institute]({{ref['gtri']}}) in Atlanta\n",
    "\n",
    "---"
   ]
  },
  {
   "cell_type": "code",
   "execution_count": 4,
   "metadata": {},
   "outputs": [
    {
     "data": {
      "text/markdown": [
       "## Interested in speaking at Jupyter Day Atlanta?\n",
       "\n",
       "\n",
       "> We are accepting talks for 2 tracks until __February 16, 2018__.\n",
       "\n",
       "[<button type=\"button\">Click here to submit your talk</button>](https://docs.google.com/forms/d/e/1FAIpQLSeUJfyYnmsDtswuFanajOpAbAl_E4Ib6LsgM1fMk6Y42ZCf2w/viewform)\n"
      ],
      "text/plain": [
       "<IPython.core.display.Markdown object>"
      ]
     },
     "metadata": {},
     "output_type": "display_data"
    }
   ],
   "source": [
    "## Interested in speaking at Jupyter Day Atlanta?\n",
    "\n",
    "\n",
    "> We are accepting talks for 2 tracks until __February 16, 2018__.\n",
    "\n",
    "[<button type=\"button\">Click here to submit your talk</button>]({{ref['cfp']}})\n",
    "\n",
    "\n"
   ]
  },
  {
   "cell_type": "code",
   "execution_count": 5,
   "metadata": {},
   "outputs": [
    {
     "data": {
      "text/markdown": [
       "## About\n",
       "\n",
       "Jupyter Day Atlanta  is a single day conference for Jupyter users in the Southeast.  The [Atlanta\n",
       "Jupyter User Group](https://www.meetup.com/Atlanta-Jupyter-User-Group/) is excited to host this event to showcase  applications\n",
       "of the open source software created by Project Jupyter.  These interactive technologies\n",
       "are reshaping how people interact with code and data in both industry and academia.  \n",
       "\n",
       "Jupyter Day Atlanta is chance for fellow Jovians to learn about the state-of-the-art in open\n",
       "source scientific computing from Project Jupyter developers and users. This event is inspired by\n",
       "[past and future events](docs/events.md) hosted by Jupyter community.  \n",
       "\n",
       "Make plans to join us in Atlanta on March 31.  Early Bird Registration for Jupyter Day Atlanta\n",
       "will open __February 14, 2018__.  Until then please consider [submitting a talk](https://docs.google.com/forms/d/e/1FAIpQLSeUJfyYnmsDtswuFanajOpAbAl_E4Ib6LsgM1fMk6Y42ZCf2w/viewform)!"
      ],
      "text/plain": [
       "<IPython.core.display.Markdown object>"
      ]
     },
     "metadata": {},
     "output_type": "display_data"
    }
   ],
   "source": [
    "## About\n",
    "\n",
    "Jupyter Day Atlanta  is a single day conference for Jupyter users in the Southeast.  The [Atlanta\n",
    "Jupyter User Group]({{ref['jug']}}) is excited to host this event to showcase  applications\n",
    "of the open source software created by Project Jupyter.  These interactive technologies\n",
    "are reshaping how people interact with code and data in both industry and academia.  \n",
    "\n",
    "Jupyter Day Atlanta is chance for fellow Jovians to learn about the state-of-the-art in open\n",
    "source scientific computing from Project Jupyter developers and users. This event is inspired by\n",
    "[past and future events](docs/events.md) hosted by Jupyter community.  \n",
    "\n",
    "Make plans to join us in Atlanta on March 31.  Early Bird Registration for Jupyter Day Atlanta\n",
    "will open __February 14, 2018__.  Until then please consider [submitting a talk]({{ref['cfp']}})!\n"
   ]
  },
  {
   "cell_type": "code",
   "execution_count": 6,
   "metadata": {},
   "outputs": [
    {
     "data": {
      "text/markdown": [
       "## Invited Speakers\n",
       "\n",
       "Jupyter Day Atlanta will host talks from some exciting innovators working in Jupyter notebooks.  _Please\n",
       "stay tuned for more!_\n",
       "\n",
       "## Breakout Sessions\n",
       "\n",
       "### Up and Running: The Jupyter Stack for n00bs\n",
       "\n",
       "Are you new to Jupyter?  Join this session to learn some __Pro__ tips that will improve your Jupyter experience.\n",
       "\n",
       "### Interacting and Collaborating in Jupyter\n",
       "\n",
       "In this session, the audience will learn about the core Jupyter\n",
       "architecture (eg. messaging, kernels) and subprojects (eg. Notebook, JupyterHub, JupyterLab, ipywidgets, nbconvert).  \n",
       "\n",
       "\n",
       "### Jupyter for Science\n",
       "\n",
       "A favorite of Jupyter Day Atlanta 2016 the Jupyter for Science track will host a session demonstrating\n",
       "the broad topics that scientists and engineers explore with Jupyter notebooks."
      ],
      "text/plain": [
       "<IPython.core.display.Markdown object>"
      ]
     },
     "metadata": {},
     "output_type": "display_data"
    }
   ],
   "source": [
    "## Invited Speakers\n",
    "\n",
    "Jupyter Day Atlanta will host talks from some exciting innovators working in Jupyter notebooks.  _Please\n",
    "stay tuned for more!_\n",
    "\n",
    "## Breakout Sessions\n",
    "\n",
    "### Up and Running: The Jupyter Stack for n00bs\n",
    "\n",
    "Are you new to Jupyter?  Join this session to learn some __Pro__ tips that will improve your Jupyter experience.\n",
    "\n",
    "### Interacting and Collaborating in Jupyter\n",
    "\n",
    "In this session, the audience will learn about the core Jupyter\n",
    "architecture (eg. messaging, kernels) and subprojects (eg. Notebook, JupyterHub, JupyterLab, ipywidgets, nbconvert).  \n",
    "\n",
    "\n",
    "### Jupyter for Science\n",
    "\n",
    "A favorite of Jupyter Day Atlanta 2016 the Jupyter for Science track will host a session demonstrating\n",
    "the broad topics that scientists and engineers explore with Jupyter notebooks."
   ]
  },
  {
   "cell_type": "code",
   "execution_count": 7,
   "metadata": {},
   "outputs": [
    {
     "data": {
      "text/markdown": [
       "# Important Dates\n",
       "\n",
       "* Call for Participation Closes: __February 16, 2018__\n",
       "* Speakers notified: __February 19, 2018__\n",
       "* Early Bird Registration Opens: __February 14, 2018__"
      ],
      "text/plain": [
       "<IPython.core.display.Markdown object>"
      ]
     },
     "metadata": {},
     "output_type": "display_data"
    }
   ],
   "source": [
    "# Important Dates\n",
    "\n",
    "* Call for Participation Closes: __February 16, 2018__\n",
    "* Speakers notified: __February 19, 2018__\n",
    "* Early Bird Registration Opens: __February 14, 2018__"
   ]
  },
  {
   "cell_type": "code",
   "execution_count": 8,
   "metadata": {},
   "outputs": [
    {
     "data": {
      "text/markdown": [
       "# Schedule\n",
       "\n",
       "* 9:00am - 9:15am — ☕️, 🍩, & registration\n",
       "* 9:15am - 10am — Panel on Readability, Reusability, and Reproducability\n",
       "* 10am - 12pm — Invited Talks\n",
       "* 12pm - 1pm — Lunch\n",
       "* 1pm - 1:40pm - Post Lunch Talk\n",
       "* 1:40pm - 4pm\n",
       "\n",
       "    * Up and Running: The Jupyter Stack for n00bs\n",
       "        * 1:40pm - 2:25pm\n",
       "          > A 45 minute crash course on getting the most out of Jupyter in Lab.\n",
       "\n",
       "    * 1:40pm - 4pm Interacting and Collaborating with Jupyter\n",
       "    * 1:40pm - 4pm Jupyter for Science\n",
       "\n",
       "* 4-4:15pm  — ☕️\n",
       "* 4:15pm - 5pm - Featured Talk\n",
       "* 5pm - 5:30pm — Town Hall and Closing Remarks\n"
      ],
      "text/plain": [
       "<IPython.core.display.Markdown object>"
      ]
     },
     "execution_count": 8,
     "metadata": {},
     "output_type": "execute_result"
    }
   ],
   "source": [
    "    \n",
    "    __import__('IPython').display.Markdown('docs/schedule.md')"
   ]
  },
  {
   "cell_type": "code",
   "execution_count": 9,
   "metadata": {},
   "outputs": [
    {
     "data": {
      "text/markdown": [
       "# [Code of Conduct][coc]\n",
       "\n",
       "All participants, including speakers, must follow our [__Atlanta Jupyter Day Code of Conduct__][coc], the core of which is\n",
       "this: __Atlanta Jupyter Day__ should be a safe and productive environment for everyone.\n",
       "\n",
       "[coc]: conduct/code_of_conduct.md"
      ],
      "text/plain": [
       "<IPython.core.display.Markdown object>"
      ]
     },
     "metadata": {},
     "output_type": "display_data"
    }
   ],
   "source": [
    "# [Code of Conduct][coc]\n",
    "\n",
    "All participants, including speakers, must follow our [__Atlanta Jupyter Day Code of Conduct__][coc], the core of which is\n",
    "this: __Atlanta Jupyter Day__ should be a safe and productive environment for everyone.\n",
    "\n",
    "[coc]: {{ref['coc']}}"
   ]
  },
  {
   "cell_type": "code",
   "execution_count": 10,
   "metadata": {},
   "outputs": [
    {
     "data": {
      "text/markdown": [
       "# Sponsors\n",
       "\n",
       "![](http://www.southeastlinuxfest.org/wp-content/uploads/2014/06/ORM_logo_box1_cmyk.jpg)\n",
       "![](https://upload.wikimedia.org/wikipedia/en/1/1e/GTRI_Logo_2011.png)"
      ],
      "text/plain": [
       "<IPython.core.display.Markdown object>"
      ]
     },
     "metadata": {},
     "output_type": "display_data"
    }
   ],
   "source": [
    "# Sponsors\n",
    "\n",
    "![](http://www.southeastlinuxfest.org/wp-content/uploads/2014/06/ORM_logo_box1_cmyk.jpg)\n",
    "![](https://upload.wikimedia.org/wikipedia/en/1/1e/GTRI_Logo_2011.png)"
   ]
  },
  {
   "cell_type": "code",
   "execution_count": null,
   "metadata": {},
   "outputs": [
    {
     "data": {
      "text/markdown": [
       "<style>\n",
       "a:link {\n",
       "    color: #F37626;\n",
       "}\n",
       "button {\n",
       "    color: ;\n",
       "    background-color: #F37626;\n",
       "    font-size: 2em;\n",
       "    padding: .25em;\n",
       "    border-radius: .25em;\n",
       "    width: 100%;\n",
       "}\n",
       "</style>"
      ],
      "text/plain": [
       "<IPython.core.display.Markdown object>"
      ]
     },
     "metadata": {},
     "output_type": "display_data"
    }
   ],
   "source": [
    "<style>\n",
    "a:link {\n",
    "    color: #F37626;\n",
    "}\n",
    "button {\n",
    "    color: ;\n",
    "    background-color: #F37626;\n",
    "    font-size: 2em;\n",
    "    padding: .25em;\n",
    "    border-radius: .25em;\n",
    "    width: 100%;\n",
    "}\n",
    "</style>"
   ]
  },
  {
   "cell_type": "code",
   "execution_count": null,
   "metadata": {},
   "outputs": [],
   "source": [
    "    \n",
    "    with __import__(\"IPython\").utils.capture.capture_output():\n",
    "        !jupyter nbconvert --to markdown --TemplateExporter.exclude_input=True readme.ipynb"
   ]
  }
 ],
 "metadata": {
  "kernelspec": {
   "display_name": "p6",
   "language": "python",
   "name": "other-env"
  },
  "language_info": {
   "codemirror_mode": {
    "name": "ipython",
    "version": 3
   },
   "file_extension": ".py",
   "mimetype": "text/x-python",
   "name": "python",
   "nbconvert_exporter": "python",
   "pygments_lexer": "ipython3",
   "version": "3.6.3"
  }
 },
 "nbformat": 4,
 "nbformat_minor": 2
}
