{
 "cells": [
  {
   "cell_type": "code",
   "execution_count": 24,
   "metadata": {},
   "outputs": [
    {
     "data": {
      "text/markdown": [
       "    if __name__ == '__main__':\n",
       "        %reload_ext rites.all\n",
       "    from pandas import *\n",
       "    set_option('display.max_colwidth', 1000)"
      ],
      "text/plain": [
       "<IPython.core.display.Markdown object>"
      ]
     },
     "metadata": {},
     "output_type": "display_data"
    }
   ],
   "source": [
    "    if __name__ == '__main__':\n",
    "        %reload_ext rites.all\n",
    "    from pandas import *\n",
    "    set_option('display.max_colwidth', 1000)"
   ]
  },
  {
   "cell_type": "code",
   "execution_count": 25,
   "metadata": {},
   "outputs": [],
   "source": [
    "    \n",
    "    ---\n",
    "    morning:\n",
    "        \"8:45-9:15\": \n",
    "            title: Registration and ☕️\n",
    "            '': Atlanta Jupyter User Group and Project Jupyter\n",
    "        \"9:15-10:00\":\n",
    "            title: Panel on Readability, Reusability, and Reproducibility\n",
    "            '': \"Carol Willing, Paco Nathan, Rob Clewley, Daniel Wheeler moderated by Charlie Bennett\"\n",
    "                \n",
    "        \"10:00-10:40\":\n",
    "            title: \"Jupyter Upstream: An Oral History of Jupyter\"\n",
    "            '': Nick Bollweg\n",
    "        \n",
    "        \"10:40-11:20\":\n",
    "            title: Reproducible Segmentation of Not-Quite-Objects\n",
    "            '': Shannon Quinn\n",
    "                \n",
    "        \"11:20-12:00\":\n",
    "            title: STEAM Workshops with Binder and JupyterHub\n",
    "            '': Carol Willing\n",
    "                \n",
    "        \"12:00-13:00\":\n",
    "            title: \"Moe's\"\n",
    "            '': O'Reilly Media\n",
    "                \n",
    "    afternoon:\n",
    "\n",
    "        \"13:00-13:40\":\n",
    "            '': Stephen Welch\n",
    "            title: Just how hard is it to drive a car with a camera\n",
    "            \n",
    "                \n",
    "        \"13:40-14:05\":\n",
    "            '': John Patanian\n",
    "            title: Achieving Reproducible and Deployable Data Science Workflows\n",
    "                \n",
    "        \"14:05-14:30\": \n",
    "            '': Jeffrey Cummings\n",
    "            title: Using Clojure in Jupyter\n",
    "                \n",
    "        \"13:40-14:25\":\n",
    "            '': Tony Fast\n",
    "            title: Getting the most out of JupyterLab\n",
    "                \n",
    "        \"14:30-14:55\":\n",
    "            '': Wafa Louhichi\n",
    "            title: Accelerated Deep Learning with PyTorch\n",
    "                \n",
    "        \"14:55-15:20\":\n",
    "            '': David Nicholson\n",
    "            title: The Markovian Birdsong Notebook\n",
    "        \n",
    "        \"15:20-15:45\":\n",
    "            '': Anna C. Smith\n",
    "            title: Classification and Characterization of Metal Powder in Additive Manufacturing using Deep Neural Nets\n",
    "                \n",
    "        \"15:45-16:00\":\n",
    "            title: More ☕️ provided\n",
    "            '': Project Jupyter\n",
    "\n",
    "        \"16:00-16:40\":\n",
    "            '': Peter Parente\n",
    "            title: Give a Little Bit of Your Notebooks to Me\n",
    "        \"16:40-17:20\":\n",
    "            '': Paco Nathan\n",
    "            title: Human-in-the-loop with Jupyter notebooks\n",
    "        \"17:20-17:30\":\n",
    "            title: Town Hall and Closing Remarks\n",
    "            '': Atlanta Jupyter User Group and O'Reilly Media"
   ]
  },
  {
   "cell_type": "code",
   "execution_count": 26,
   "metadata": {},
   "outputs": [
    {
     "data": {
      "text/markdown": [
       "    def df_view(data):\n",
       "        df = DataFrame(data).T\n",
       "\n",
       "        df.index = df.index.str.split('-').to_series().apply(Series).applymap(\"March 31, 2018 {}\".format).apply(to_datetime).rename(columns={\n",
       "            0: 'start', 1: 'end'\n",
       "        }).set_index(['start', 'end'], drop=True).index\n",
       "        df = df.sort_index()\n",
       "\n",
       "        return df.reset_index().set_index('title')\n",
       "    \n",
       "    morning = df_view(morning)\n",
       "    afternoon = df_view(afternoon)"
      ],
      "text/plain": [
       "<IPython.core.display.Markdown object>"
      ]
     },
     "metadata": {},
     "output_type": "display_data"
    }
   ],
   "source": [
    "    def df_view(data):\n",
    "        df = DataFrame(data).T\n",
    "\n",
    "        df.index = df.index.str.split('-').to_series().apply(Series).applymap(\"March 31, 2018 {}\".format).apply(to_datetime).rename(columns={\n",
    "            0: 'start', 1: 'end'\n",
    "        }).set_index(['start', 'end'], drop=True).index\n",
    "        df = df.sort_index()\n",
    "\n",
    "        return df.reset_index().set_index('title')\n",
    "    \n",
    "    morning = df_view(morning)\n",
    "    afternoon = df_view(afternoon)"
   ]
  },
  {
   "cell_type": "code",
   "execution_count": 27,
   "metadata": {},
   "outputs": [
    {
     "data": {
      "text/markdown": [
       "#### Registration and ☕️ <small>from 8:45 AM to 9:15 AM</small>\n",
       "* Atlanta Jupyter User Group and Project Jupyter\n",
       "\n",
       "#### Panel on Readability, Reusability, and Reproducibility <small>from 9:15 AM to 10:00 AM</small>\n",
       "* Carol Willing, Paco Nathan, Rob Clewley, Daniel Wheeler moderated by Charlie Bennett\n",
       "\n",
       "#### Jupyter Upstream: An Oral History of Jupyter <small>from 10:00 AM to 10:40 AM</small>\n",
       "* Nick Bollweg\n",
       "\n",
       "#### Reproducible Segmentation of Not-Quite-Objects <small>from 10:40 AM to 11:20 AM</small>\n",
       "* Shannon Quinn\n",
       "\n",
       "#### STEAM Workshops with Binder and JupyterHub <small>from 11:20 AM to 12:00 PM</small>\n",
       "* Carol Willing\n",
       "\n",
       "#### Moe's <small>from 12:00 PM to 1:00 PM</small>\n",
       "* O'Reilly Media"
      ],
      "text/plain": [
       "<IPython.core.display.Markdown object>"
      ]
     },
     "metadata": {},
     "output_type": "display_data"
    }
   ],
   "source": [
    "{% for id, Series in morning.iterrows() %}#### {{id}} <small>from {{Series.loc['start'].strftime(\"%-I:%M %p\")}} to {{Series.loc['end'].strftime(\"%-I:%M %p\")}}</small>\n",
    "* {{Series.loc['']}}\n",
    "\n",
    "{% endfor %}"
   ]
  },
  {
   "cell_type": "markdown",
   "metadata": {},
   "source": [
    "{{view}}"
   ]
  },
  {
   "cell_type": "code",
   "execution_count": null,
   "metadata": {},
   "outputs": [],
   "source": []
  }
 ],
 "metadata": {
  "kernelspec": {
   "display_name": "p6",
   "language": "python",
   "name": "other-env"
  },
  "language_info": {
   "codemirror_mode": {
    "name": "ipython",
    "version": 3
   },
   "file_extension": ".py",
   "mimetype": "text/x-python",
   "name": "python",
   "nbconvert_exporter": "python",
   "pygments_lexer": "ipython3",
   "version": "3.6.3"
  }
 },
 "nbformat": 4,
 "nbformat_minor": 2
}
