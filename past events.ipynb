{
 "cells": [
  {
   "cell_type": "markdown",
   "metadata": {},
   "source": [
    "# Past Jupyter Days\n",
    "\n"
   ]
  },
  {
   "cell_type": "markdown",
   "metadata": {},
   "source": [
    "0. October 25, 2015 [New York](https://blog.jupyter.org/jupyterday-nyc-333efb100d08)\n",
    "0. February 20th, 2016 [Chicago](https://blog.jupyter.org/jupyterday-chicago-2016-126946f33fc6)\n",
    "0. March 17-18, 2016 [Boston](https://blog.jupyter.org/jupyterdays-boston-2016-80816ab9954f)\n",
    "0. August 13, 2016 [Atlanta](https://jupyterday-atlanta-2016.github.io)\n",
    "0. Oct 29 2016 [Hawaii](https://blog.jupyter.org/jupyterday-hawaii-2016-da8569d52e12)\n",
    "0. December 6, 2016 [Paris](https://blog.jupyter.org/jupyterday-paris-4afa5e97cb1a)\n",
    "0. May 19, 2017 [Philadelphia](https://jupyterday.blogs.brynmawr.edu/)"
   ]
  }
 ],
 "metadata": {
  "kernelspec": {
   "display_name": "p6",
   "language": "python",
   "name": "other-env"
  },
  "language_info": {
   "codemirror_mode": {
    "name": "ipython",
    "version": 3
   },
   "file_extension": ".py",
   "mimetype": "text/x-python",
   "name": "python",
   "nbconvert_exporter": "python",
   "pygments_lexer": "ipython3",
   "version": "3.6.3"
  }
 },
 "nbformat": 4,
 "nbformat_minor": 2
}
